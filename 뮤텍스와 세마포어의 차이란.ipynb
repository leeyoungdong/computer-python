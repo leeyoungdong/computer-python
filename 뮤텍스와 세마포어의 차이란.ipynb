{
  "nbformat": 4,
  "nbformat_minor": 0,
  "metadata": {
    "colab": {
      "provenance": []
    },
    "kernelspec": {
      "name": "python3",
      "display_name": "Python 3"
    },
    "language_info": {
      "name": "python"
    }
  },
  "cells": [
    {
      "cell_type": "markdown",
      "source": [
        "# **뮤텍스와 세마포어의 차이란?**"
      ],
      "metadata": {
        "id": "nJ4z87NajVdd"
      }
    },
    {
      "cell_type": "markdown",
      "source": [
        "상호배제(Mutual Exclusion, Mutex)는 한 스레드/프로세스가 임계 영역에 있으면 다른 스레드/프로세스가 못 들어오도록 막는 것을 말한다"
      ],
      "metadata": {
        "id": "txyalF0RjZos"
      }
    },
    {
      "cell_type": "markdown",
      "source": [
        "1. 임계 영역 진입 전 다른 스레드/프로세스가 임계 영역에 안에 있는지 검사한다.\n",
        "\n",
        "2. 없다면 임계 영역에 진입하여 공유 자원에 접근한다. 있다면 기다린다.\n",
        "\n",
        "3. 끝나면 임계 영역을 벗어나 다른 프로세스에게 임계 영역에 벗어났음을 알린다."
      ],
      "metadata": {
        "id": "aNfwI9DojipM"
      }
    },
    {
      "cell_type": "markdown",
      "source": [
        "세마포어(Semaphore)는 현재 공유 자원에 접근할 수 있는 스레드/프로세스의 수를 나타내는 값을 두어 상호배제를 하는 방법을 말한다. 세마포어는 변수로 음이 아닌 정수 S(여러 개가 존재 가능)와, 함수로 초기화 연산, P(검사), V(증가) 연산이 있으며, 다음과 같이 수행된다"
      ],
      "metadata": {
        "id": "pU3yfzWBlPB7"
      }
    },
    {
      "cell_type": "markdown",
      "source": [
        "1. 변수 S를 초기화 연산을 통해 초기화 시킨다.\n",
        "2. P 함수를 실행하여 S가 0보다 큰지 검사한다.\n",
        "3. 만약 0보다 크다면, S를 1 감소시키고 임계 영역에 진입하여 공유 자원에 접근한다.\n",
        "4. 크지 않다면, 스레드/프로세스를 Ready Queue에 넣어 대기시킨다.\n",
        "5. 임계 영역에서 나온 스레드/프로세스는 V 함수를 실행하여 Ready Queue에 스레드/프로세스가 있는지 체크한다. 만약 있다면, 그 중 1개를 임계 영역에 진입시킨다. 없다면, S를 1 증가시킨다."
      ],
      "metadata": {
        "id": "CqPvwkVTlSSN"
      }
    }
  ]
}