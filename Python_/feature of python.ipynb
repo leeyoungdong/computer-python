{
  "nbformat": 4,
  "nbformat_minor": 0,
  "metadata": {
    "colab": {
      "provenance": []
    },
    "kernelspec": {
      "name": "python3",
      "display_name": "Python 3"
    },
    "language_info": {
      "name": "python"
    }
  },
  "cells": [
    {
      "cell_type": "markdown",
      "source": [
        "# **list and tuples의 차이**"
      ],
      "metadata": {
        "id": "l6Zu_MJ23QUc"
      }
    },
    {
      "cell_type": "markdown",
      "source": [
        "리스트는 mutable(변경 가능), 튜플은 immutable(변경 불가능) 특징을 가짐.\n",
        "\n",
        " 따라서 리스트는 선언 후에도 값에 대한 변경, 삭제가 가능하지만, 튜플은 선언 후에 값을 변경하거나 삭제하는 것이 불가능하다. 또한 리스트는 튜플보다 느리다는 단점을 가지고 있으며, 하나의 튜플/리스트에 다른 타입의 값을 함께 저장할 수 있다는 공통점이 있다\n",
        "  \n",
        " 리스트는 대괄호 [ ]를, 튜플은 소괄호 ( )를 사용해서 나타낸다."
      ],
      "metadata": {
        "id": "H4QXKoHW3SzI"
      }
    },
    {
      "cell_type": "markdown",
      "source": [
        "# **features of Python**"
      ],
      "metadata": {
        "id": "FmTFyhf43SxJ"
      }
    },
    {
      "cell_type": "markdown",
      "source": [
        "**인터프리터 언어(Interpreter Language)**  인터프리터 언어이므로, 실행하기 전에 컴파일을 할 필요가 없음음"
      ],
      "metadata": {
        "id": "0I2_OBj83Ssp"
      }
    },
    {
      "cell_type": "markdown",
      "source": [
        "**동적타이핑(Dynamic Typing)** \n",
        "\n",
        "파이썬은 실행시간에 자료형을 검사하므로, 선언할 때 변수 유형(ex.int, double, ...)을 명시할 필요가 없다.\n",
        "\n",
        "typing이란 프로그램 내에서 변수의 데이터 타입을 정하는 것을 말한다. 데이터 타입 지정(assign)은 정적 또는 동적 타이핑으로 분류되는데, 프로그램 컴파일 시에 변수의 타입을 체크하는 C, C++과 같은 언어는 정적 타입(static typed) 언어라고 하고, 프로그램 실행 시에 타입을 체크하는 python은 동적 타입(dynamic typed) 언어이다."
      ],
      "metadata": {
        "id": "sTVm3M5i3Sqx"
      }
    },
    {
      "cell_type": "markdown",
      "source": [
        "**객체 지향 프로그래밍(OOP)** 파이썬은 클래스와 구성 및 상속을 함께 정의할 수 있다는 점에서 객체 지향 프로그래밍에 매우 적합하다."
      ],
      "metadata": {
        "id": "BBERmZlZ4dYp"
      }
    },
    {
      "cell_type": "markdown",
      "source": [
        "**일급객체(First-class citizen)** 파이썬에서 함수와 클래스는 일급 객체이다. 일급객체는 변수나 데이터 구조 안에 담을 수 있고, 매개변수로 전달이 가능하며, 리턴값으로 사용될 수 있다는 특징을 가지고 있다"
      ],
      "metadata": {
        "id": "IL6Hl57-4isx"
      }
    },
    {
      "cell_type": "markdown",
      "source": [
        "파이썬은 들여쓰기(indentation) 와 간결하고 쉬운 문법을 통해 빠르게 코드를 작성할 수 있다는 장점을 가지고있다.\n",
        "\n",
        "변수, 인수(argument)를 미리 선언하지 않아도 자동으로 메모리 공간 할당되어 편리하다.\n",
        "\n",
        "함수(function) 또는 모듈(module) 추가가 용이하여 확장성과 이식성이 좋다.\n",
        "\n",
        "파이썬은 인터프리터로 동작하는 스크립트 언어이므로 다른 컴파일 언어에 비해 다소 느리다.\n",
        "\n",
        "컴파일러가 코드를 기계어로 번역해서 실행가능 파일을 만드는 것에 비해, 인터프리터는 코드를 한줄씩 실행시간마다 번역해서 실행하기 때문이다."
      ],
      "metadata": {
        "id": "zAE6N0En456Z"
      }
    }
  ]
}