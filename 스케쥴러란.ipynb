{
  "nbformat": 4,
  "nbformat_minor": 0,
  "metadata": {
    "colab": {
      "provenance": []
    },
    "kernelspec": {
      "name": "python3",
      "display_name": "Python 3"
    },
    "language_info": {
      "name": "python"
    }
  },
  "cells": [
    {
      "cell_type": "markdown",
      "source": [
        "# **스케쥴러란?**"
      ],
      "metadata": {
        "id": "L1g-i6tpYGSK"
      }
    },
    {
      "cell_type": "markdown",
      "source": [
        "시스템 내에는 여러 개의 프로세스가 존재한다.  시간(time)과 공간(space) 에 자원을 할당할 프로세스를 선택해야 하는데, 이 역할을 수행하는 것을을 스케줄러라고 한다."
      ],
      "metadata": {
        "id": "50fdA-QTYGNg"
      }
    },
    {
      "cell_type": "markdown",
      "source": [
        "스케줄러의 목적은 시스템 성능 향상이며 대표적인 시스템 성능 지표로 **응답시간(response time), 작업 처리량(throughput), 자원 활용도(resource utilization)**이 있다. 목적에 따라 다양한 성능 지표를 고려하여 스케줄러를 선택한다."
      ],
      "metadata": {
        "id": "W9YBc1cNYGLZ"
      }
    },
    {
      "cell_type": "markdown",
      "source": [
        "스케줄러는 발생하는 빈도와 할당하는 자원에 따라 장기/중기/단기 스케줄러로 나눌 수 있다."
      ],
      "metadata": {
        "id": "rv1lMLtTkRB_"
      }
    },
    {
      "cell_type": "markdown",
      "source": [
        "장기 스케줄러(Long-term Scheduler)는 시스템에 제출할 작업을 결정하는 Job Scheduling(Job → created)에서 사용하며, 시스템 내에 프로세스 수를 조절한다. 이 때 중요한 것은 CPU든 I/O든 모두 써서 효율성을 높이기 위해서 I/O bounded와 compute-bounded 프로세스들을 잘 섞어서 선택해야 한다."
      ],
      "metadata": {
        "id": "mRAIJlULYYO7"
      }
    },
    {
      "cell_type": "markdown",
      "source": [
        "중기 스케줄러(Mid-term Scheduler)는 메모리 할당을 결정하는 Memory Allocation(suspended ready → ready)에서 사용한다."
      ],
      "metadata": {
        "id": "PRk6cYOJYGJK"
      }
    },
    {
      "cell_type": "markdown",
      "source": [
        "단기 스케줄러(Short-term Scheduler)는 프로세서를 할당 받을 프로세스를 결정하는 Process Scheduling(ready → running)에서 사용하며, 가장 빈번하게 발생하므로 매우 빨라야 한다."
      ],
      "metadata": {
        "id": "xedgjhyaYGGy"
      }
    },
    {
      "cell_type": "markdown",
      "source": [
        "**응답시간 vs 작업 처리량 vs 자원 활용도**"
      ],
      "metadata": {
        "id": "8YvsowlwYGE1"
      }
    },
    {
      "cell_type": "markdown",
      "source": [
        "응답시간(response time): 작업 요청으로부터 응답을 받을 때까지의 시간\n",
        "\n",
        "작업 처리량(throughput): 단위 시간 동안 완료된 작업의 수\n",
        "\n",
        "자원 활용도(resource time): 주어진 시간동안 자원이 활용된 시간"
      ],
      "metadata": {
        "id": "8bJcfZ_pedKq"
      }
    },
    {
      "cell_type": "markdown",
      "source": [
        "**I/O Bounded 프로세스 vs Compute-bounded 프로세스**"
      ],
      "metadata": {
        "id": "b-lc4g7wee93"
      }
    },
    {
      "cell_type": "markdown",
      "source": [
        "I/O Bounded 프로세스: I/O 대기시간이 긴 프로세스\n",
        "\n",
        "Compute-bounded 프로세스: CPU 사용시간이 긴 프로세스"
      ],
      "metadata": {
        "id": "RPA2KdUFegef"
      }
    }
  ]
}