{
  "nbformat": 4,
  "nbformat_minor": 0,
  "metadata": {
    "colab": {
      "provenance": []
    },
    "kernelspec": {
      "name": "python3",
      "display_name": "Python 3"
    },
    "language_info": {
      "name": "python"
    }
  },
  "cells": [
    {
      "cell_type": "markdown",
      "source": [
        "# **TCP/IP이란?**"
      ],
      "metadata": {
        "id": "FxfWfr9hsB88"
      }
    },
    {
      "cell_type": "markdown",
      "source": [
        "TCP/IP는 인터넷에서 표준으로 사용되고 있는 네트워크 프로토콜(규칙)을 의미한다. \n",
        "\n",
        "TCP/IP는 IP(Internet Protocol)을 중심으로 한 여러 프로토콜의 집합체로, TCP/IP 5계층 혹은 TCP/IP 4계층(링크계층과 물리계층을 하나의 계층으로 보는 경우)으로 불린다.\n",
        "\n",
        "\n",
        "TCP/IP는 크게 5개의 계층으로 구성된다."
      ],
      "metadata": {
        "id": "wpdFHC5xsB68"
      }
    },
    {
      "cell_type": "markdown",
      "source": [
        "**애플리케이션 계층(Application Layer, L5)**"
      ],
      "metadata": {
        "id": "YDRZZpDWsB48"
      }
    },
    {
      "cell_type": "markdown",
      "source": [
        "네트워크 애플리케이션과 애플리케이션 계층 프로토콜이 있는 곳이다. HTTP, SMTP, FTP와 같은 많은 프로토콜을 포함한다. 도메인 주소를 32비트 네트워크 주소로 변환하는 기능을 위한 DNS(Domain Name Server)를 지원한다. 애플리케이션 계층 패킷을 메시지(message)라고 한다."
      ],
      "metadata": {
        "id": "XjKAS2v-sB2T"
      }
    },
    {
      "cell_type": "markdown",
      "source": [
        "**트랜스포트 계층(Transport Layer, L4)**"
      ],
      "metadata": {
        "id": "5S9AqJKesB0j"
      }
    },
    {
      "cell_type": "markdown",
      "source": [
        "네트워크 계층에서 보내온 데이터 정렬, 오류 정정 등을 수행하고 신뢰할 수 있는 통신을 확보한다. TCP/UDP 같은 프로토콜이 이 계층에 위치한다. 트랜스포트 계층 패킷을 세그먼트(segment)라고 한다."
      ],
      "metadata": {
        "id": "AKAVbc-wsSoy"
      }
    },
    {
      "cell_type": "markdown",
      "source": [
        "**네트워크 계층(Network Layer/IP Layer, L3)**"
      ],
      "metadata": {
        "id": "FQ4WCZESsXx7"
      }
    },
    {
      "cell_type": "markdown",
      "source": [
        "다른 네트워크에 있는 목적지에 데이터를 전송하는 역할을 수행한다. 즉, 네트워크 간의 통신을 가능하게 해주는 역할을 수행한다. 이를 위해, 라우터(router) 장비와 IP 프로토콜(오직 하나만 존재), 라우팅 프로토콜이 사용된다. 라우터는 다른 네트워크와 통신하기 위해 경로를 설정하고 논리주소를 결정하는 역할을 수행한다.(경로설정) 네트워크 계층의 패킷을 데이터그램(datagram)이라 한다."
      ],
      "metadata": {
        "id": "a0C7CFhGsZZp"
      }
    },
    {
      "cell_type": "markdown",
      "source": [
        "**링크 계층(Data Link Layer, L2)**"
      ],
      "metadata": {
        "id": "dDHTiktcsayB"
      }
    },
    {
      "cell_type": "markdown",
      "source": [
        "네트워크 기기 간 데이터 전송 및 물리 주소를 결정하는 역할을 수행한다. 주로 건물이나 특정 지역을 범위로 하는 네트워크인 랜(LAN)에서 데이터를 정상적으로 주고받기 위해 필요한 계층이다. 데이터 링크 계층에서는 일반적으로 이더넷(Ethernet) 프로토콜이 사용되며, 스위치(switch) 같은 장치가 사용된다. 링크 계층 패킷을 프레임(frame)이라 한다"
      ],
      "metadata": {
        "id": "G3-OVakGsc9B"
      }
    },
    {
      "cell_type": "markdown",
      "source": [
        "**물리 계층(Physical Layer, L1)**"
      ],
      "metadata": {
        "id": "ALxXvt-4sedy"
      }
    },
    {
      "cell_type": "markdown",
      "source": [
        "물리적인 연결과 전기 신호 변환/제어를 담당하여, 이진 데이터를 전기 신호로 변환한다. 또한 컴퓨터와 네트워크 장비를 물리적으로 연결하여, 하나의 노드에서 다른 노드로 비트를 이동시키는 역할을 수행한다. 물리 계층의 프로토콜들은 링크(실제 전송매체 ex.광케이블)에 의존한다."
      ],
      "metadata": {
        "id": "QFDdCu-TsfGM"
      }
    }
  ]
}