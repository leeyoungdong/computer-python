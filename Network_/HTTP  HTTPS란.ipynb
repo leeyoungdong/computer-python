{
  "nbformat": 4,
  "nbformat_minor": 0,
  "metadata": {
    "colab": {
      "provenance": []
    },
    "kernelspec": {
      "name": "python3",
      "display_name": "Python 3"
    },
    "language_info": {
      "name": "python"
    }
  },
  "cells": [
    {
      "cell_type": "markdown",
      "source": [
        "# **HTTP / HTTPS란?**"
      ],
      "metadata": {
        "id": "DykBAQQ2-bf_"
      }
    },
    {
      "cell_type": "markdown",
      "source": [
        "HTTP(HyperText Transfer Portocal)란 서버/클라이언트 모델을 따라 데이터(HTML문서를 교환)를 주고 받기위한 프로토콜.(통신규약) HTTP는 인터넷에서 하이퍼 텍스트를 교환하기 위한 통신규약으로, 80번 포트를 사용. 따라서 HTTP서버가 80번 포트에서 요청을 기다리고 있으며, 클라이언트는 80번 포트로 요청을 보내게 된다. \n",
        "\n",
        "HTTPS란 HTTP에 데이터 암호화가 추가된 프로토콜. HTTPS는 HTTP와 다르게 443번 포트를 사용하며, 네트워크상에서 중간에 3자가 정보를 볼 수 없도록 공개키 암호화를 지원하고 있다."
      ],
      "metadata": {
        "id": "rrtT-0vu-baO"
      }
    },
    {
      "cell_type": "markdown",
      "source": [
        "HTTP는 암호화가 추가되지 않았기 때문에 보안에 취약한 반면, HTTPS는 안전하게 데이터를 주고받을 수 있다. 하지만 HTTPS를 이용하면 암호화/복호화의 과정이 필요하기 때문에 HTTP보다 속도가 느림. 또한 HTTPS는 인증서를 발급하고 유지하기 위한 추가 비용이 발생.\n",
        "\n",
        "개인정보와 같은 민감 데이터를 주고받아야한다면 - HTTPS\n",
        "\n",
        "단순 정보조회 등의 조회업무 - HTTP"
      ],
      "metadata": {
        "id": "w404nfba-bY1"
      }
    },
    {
      "cell_type": "markdown",
      "source": [
        "**HTTP의 통신방식**\n",
        "\n",
        "* 요청 / 응답(request / response)구조 - 클라이언트가 HTTP request를 서버에 보내면 서버는 HTTP resopnse를 보내는 구조.\n",
        "* HTTP는 Stateless(상태를 저장히자 않음) - 요청이오면 응답할뿐, 여러 요청/응답끼리 연결되어있지 않고 독립적으로 형성됨. 여러 요청과 응답의 진행과정이나 데이터가 필요할때는 쿠키나 세션등을 사용하게됨\n",
        "\n",
        "**HTTP Request구조** - 3가지 로 구분\n",
        "\n",
        "* Start Line\n",
        "* Headers\n",
        "* Body\n",
        "\n",
        "1. Start Line\n",
        "  * HTTP Method - 해당 request가 의도한 action을 정의하는 부분 get, post..etc\n",
        "  * Request Target - 해당 request가 전소오디는 목표 uri\n",
        "  * HTTP Version - 사용되는 HTTP 버젼\n",
        "2. Headers\n",
        "  * request에 대한 추가정보를 담고있는 부분(ex. request body의 총길이...등)\n",
        "  * Key:Value 값(HOST: google.com ..등)\n",
        "  * 헤더도 크게 3부분으로 나눠짐(general, request, entity)\n",
        "[자주 사용되는 header - HOST / User-Agent / Accept / Connection / Content-Type / Content-Length]\n",
        "3. Body\n",
        "  * 해당 request의 실제 내용 / 메세지(body가 없는 request도 존재 - get 등...)"
      ],
      "metadata": {
        "id": "vTell6wf-bXW"
      }
    },
    {
      "cell_type": "markdown",
      "source": [
        "**HTTP Response구조** - 3가지로 구분\n",
        "\n",
        "* Status Line\n",
        "* Headers\n",
        "* Body\n",
        "\n",
        "1. Status Line\n",
        "  * HTTP Versoin - 사용되는 HTTP버전\n",
        "  * Status code - dmdekq tkdxofmf skskxosms zhem\n",
        "  * Status text - 응답상태를 간략하게 설명\n",
        "2. Headers\n",
        "  * response headers와 동일\n",
        "  * resopnse에서만 쓰는 header값이 존재\n",
        "  * 예를들어 user-Agent 대신 server 헤더 사용\n",
        "3. Body\n",
        "  * Response의 body와 일반적으로 동일\n",
        "  * Request와 마찬가지로 모든 response가 body를 갖지않음\n",
        "  "
      ],
      "metadata": {
        "id": "EdADNl-5-bWM"
      }
    },
    {
      "cell_type": "markdown",
      "source": [
        "**자주 쓰이는 HTTP Methods**\n",
        "\n",
        "1. GET\n",
        "  * 데이터를 서버로부터 받아올때 사용\n",
        "  * 데이터 생성/수정/삭제없이 받아오기만함\n",
        "  * 가장 간단하고 많이 사용\n",
        "  * BODY를 안보내는 경우가 많음\n",
        "2. POST\n",
        "  * 데이터를 생성/수정/삭제 할때 사용\n",
        "  * 생성 수정할때 많이 사용하기에 대부분의 경우 BODY를 포함해서 보내짐"
      ],
      "metadata": {
        "id": "3951XRsb-bUy"
      }
    }
  ]
}