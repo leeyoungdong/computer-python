{
  "nbformat": 4,
  "nbformat_minor": 0,
  "metadata": {
    "colab": {
      "provenance": []
    },
    "kernelspec": {
      "name": "python3",
      "display_name": "Python 3"
    },
    "language_info": {
      "name": "python"
    }
  },
  "cells": [
    {
      "cell_type": "markdown",
      "source": [
        "# **TCP와 UDP의 차이**"
      ],
      "metadata": {
        "id": "uYMZ0_t-2pjI"
      }
    },
    {
      "cell_type": "markdown",
      "source": [
        "TCP와 UDP는 모두 트랜스포트 계층(4계층)의 프로토콜이다. TCP와 UDP가 공통적으로 가지고 있는 기능은 아래와 같다.\n",
        "\n",
        "1. 트랜스포트 다중화/ 역다중화 기능(Transport Multiplexing/Demultiplexing): 호스트 대 호스트 전달을 프로세스 대 프소세스 전달로 확장 \n",
        "2. 무결성 검사(오류검출): 헤더에 오류검출 필드를 포함"
      ],
      "metadata": {
        "id": "UvAXZO9j2ph3"
      }
    },
    {
      "cell_type": "markdown",
      "source": [
        "**UDP는**\n",
        "\n",
        "기본적인 두가지의 기능만 제공. UDP는 비신뢰적인 서비스로서, 프로세스에 의해 전송된 데이터가 손상되지 않은채로 목적지에 도착하는 것을 보장하지 않는다. 비연결형 서비스이며, 오류검출은 선택사항이다.\n",
        "\n",
        "UDP는 비연결형 서비스이므로 연결설정이 불필요하고 연결상태가 없다. 연결을 설정하기 위한 어떠한 지연이 없고, 유지해야하는 정보가 없기 때문에 더많은 클라이언트를 수용할 수 있다. 또한 UDP의 패킷 오버헤드(8byte per segment)가 TCP(20byte per segment)에 비해 더 작다는 장점이 있다. 그러나 혼잡제어를 사용하지 않아, 네트워크가 폭주상태에 빠지는 것을 막을 수 없다는 단점과 신뢰적이지 않으므로, 몇몇의 정보를 잃어버릴 수 있다는 단점이 존재"
      ],
      "metadata": {
        "id": "sjBByb__2pgH"
      }
    },
    {
      "cell_type": "markdown",
      "source": [
        "**TCP는**\n",
        "\n",
        "기본적인 두가지 기능과 추가로 신뢰적인 데이터 전달(Reliable Data Transfer)기능, 연결지향형 서비스, 혼잡제어(Congestion Control)등의 기능을 제공.\n",
        "\n",
        "신뢰적인 데이터 전달은 흐름제어, 순서번호, 확인응답, 타이머 등의 기술을 사용하여 프로세스에게 데이터가 순서대로 정확히 전달되도록 하는 역할을 한다. 종단 시스템 간에 IP의 비신뢰적인 서비스를 프로세스 사이의 신뢰적인 데이터 전송 서비스로 만들 수 있으며, TCP에서의 오류검출은 필수이다. 혼잡제어는 보내는 쪽(송신측)의 트래픽을 조절하여 스위치/링크의 혼잡을 방지하는 역할을 한다. 이는 특정 애플리케이션을 위해 제공하는 특정 서비스가 아니라, 전체를 위한 서비스로서, 혼잡한 네트워크링크에서 각 TCP연결이 링크의 대역폭을 공평하게 공유하여 통과하도록 해준다.\n",
        "\n",
        "UDP는 속도증가와 지연감소를 위해 사용, TCP는 신뢰성이 중요한경우 사용. \n",
        "\n",
        "ex.UDP - 동영상 전송과 같이 몇프레임이 손상되어도 되는 데이터 전송같은경우 / TCP - 몇몇 정보도 손실되어서는 안되는 애플리케이션"
      ],
      "metadata": {
        "id": "GPNUAtUe2pfX"
      }
    }
  ]
}