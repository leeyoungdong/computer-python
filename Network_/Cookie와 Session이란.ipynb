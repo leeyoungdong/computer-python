{
  "nbformat": 4,
  "nbformat_minor": 0,
  "metadata": {
    "colab": {
      "provenance": []
    },
    "kernelspec": {
      "name": "python3",
      "display_name": "Python 3"
    },
    "language_info": {
      "name": "python"
    }
  },
  "cells": [
    {
      "cell_type": "markdown",
      "source": [
        "# **Cookie와 Session이란**"
      ],
      "metadata": {
        "id": "2jKUXjKdxLc_"
      }
    },
    {
      "cell_type": "markdown",
      "source": [
        "**쿠키(Cookie)**"
      ],
      "metadata": {
        "id": "42u3Svj2xLbn"
      }
    },
    {
      "cell_type": "markdown",
      "source": [
        "클라이언트(브라우저) 로컬에 저장되는 키/값으로 이뤄진 작은 데이터 파일이다. 사용자 인증이 유효한 시간을 명시할 수 있으며, 유혀시간이 정해지면 브라우저가 종료되어도 인증이 유지된다는 특성을 갖는다.\n",
        "\n",
        "쿠키는 클라이언트의 상태 정보를 로컬에 저장했다가 참조하며, Response Header에 Set-Cookie 속성을 사용하면 클라이언트에 쿠키를 만들 수 있다. 쿠키는 사용자가 따로 요청하지 않아도 브라우저가 Request시에 Request Header를 넣어 자동으로 서버에 전송"
      ],
      "metadata": {
        "id": "lklnCz36xLaX"
      }
    },
    {
      "cell_type": "markdown",
      "source": [
        "쿠키 작동 순서\n",
        "1. 클라이언트가 페이지를 요청\n",
        "2. 서버에서 쿠키를 생성\n",
        "3. HTTP 헤더에 쿠키를 포함 시켜 응답\n",
        "4. 브라우저가 종료되어도 쿠키 만료 기간이 있다면 크라이언트에서 보관\n",
        "5. 같은 요청을 할 경우 HTTP헤더에 쿠키를 함께 보냄\n",
        "6. 서버에서 쿠키를 읽어 이전 상태 정보를 변경할 필요가 있을 때 쿠키를 업데이트 하여 변경된 쿠키를 HTTP헤더에 포함시켜 응답\n"
      ],
      "metadata": {
        "id": "5xxn4CvAxLX_"
      }
    },
    {
      "cell_type": "markdown",
      "source": [
        "**세션(Session)**"
      ],
      "metadata": {
        "id": "Eh_2zEFGxLXf"
      }
    },
    {
      "cell_type": "markdown",
      "source": [
        "쿠키를 기반으로 하지만, 사용자 정보 파일을 브라우저에 저장하는 쿠키와 달리 세션은 서버에서 관리한다. 서버에서는 클라이언트를 구분하기 위해 세션ID를 부여하며 웹 브라우저가 서버에 접속해서 브라우저를 종료할 때까지 인증상태를 유지한다.\n",
        "\n",
        "접속시간에 제한을 두어 일정시간 응답이 없다면 정보가 유지되지 않게 설정이 가능하다. 사용자에 대한 정보를 서버에 두기 때문에 쿠키보다 보안에 좋지만, 사용자가 많아질수록 서버 메모리를 많이 차지하게됨. 동접자 수가 많은 웹사이트인 경우 서버에 과부하를 주게 되므로 성능 저하의 요인이 된다.\n",
        "\n",
        "클라이언트가 Request를 보내면, 해당 서버의 엔진이 클라이언트에게 유일한 ID를 부여하는데 이것이 세션 ID 이다."
      ],
      "metadata": {
        "id": "WJic9d3exLVG"
      }
    },
    {
      "cell_type": "markdown",
      "source": [
        "세션 작동 순서\n",
        "\n",
        "1. 클라이언트가 서버에 접속시 세션 ID를 발급\n",
        "2. 클라이언트는 세션 ID에 대해 쿠키를 사용해 저장하고 갖고있음\n",
        "3. 클라이언트는 서버에 요청할 때, 이 쿠키의 세션 ID를 서버에 전달해서 사용\n",
        "4. 서버는 세션 ID를 전달받아서 별다른 작업없이 세션 ID로 세션에 있는 클라이언트 정보를 가져옴\n",
        "5. 클라이언트 정보를 가지고 서버 요청을 처리하여 클라이언트에게 응답"
      ],
      "metadata": {
        "id": "Z2DafDsyxLS_"
      }
    },
    {
      "cell_type": "markdown",
      "source": [
        "**쿠키와 세션의 차이점**"
      ],
      "metadata": {
        "id": "tMBURionxLQw"
      }
    },
    {
      "cell_type": "markdown",
      "source": [
        "* 사용자의 정보가 저장되는 위치: 쿠키는 서버의 자원을 전혀 사용하지 않으며, 세션은 서버의 자원을 사용\n",
        "* 보안: 쿠키는 클라이언트 로컬에 저장되기 때문에 변질되거나 Request에서 스니핑 당할 우려가 있어 보안에 취약, 반면 세션은 쿠키를 이용해 세션 ID만 저장하고 그것으로 구분해 서버에서 처리하기 때문에 비교적 보안성이 좋음.\n",
        "* 라이프 사이클: 쿠키는 만료시간이 있지만 파일로 저장되기 때문에 브라우저를 종료해도 계속해서 정보가 남아있을 수 있다. 또한 만료 기간을 넉넉하게 잡아두면 쿠키를 삭제 할 때까지 유지될 수도 있다. 반면 세션도 만료시간을 정할 수 있지만, 브라우저가 종료되면 만료시간에 상관없이 삭제된다.\n",
        "* 속도: 쿠키에 정보가 있기 때문에 서버에 요청시 속도가 빠르다. 반면세션은 정보가 서버에 있기때문에 처리가 요구되어 비교적 느린 속도를 낸다.\n",
        "\n",
        "세션은 서버의 자원을 사용하기 때문에 무분별하게 만들다 보면 서버의 메모리가 감당할 수 없어질 수가 있고 속도가 느려질 수 있기 때문에 쿠키를 함께 사용한다."
      ],
      "metadata": {
        "id": "GiaWwh5GxLO-"
      }
    },
    {
      "cell_type": "markdown",
      "source": [],
      "metadata": {
        "id": "k-NbomrpxLM4"
      }
    },
    {
      "cell_type": "markdown",
      "source": [],
      "metadata": {
        "id": "iju6Cz_XxLKf"
      }
    },
    {
      "cell_type": "markdown",
      "source": [],
      "metadata": {
        "id": "I-hn4xGbxLIP"
      }
    }
  ]
}