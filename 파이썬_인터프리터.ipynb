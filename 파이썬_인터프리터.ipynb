{
  "nbformat": 4,
  "nbformat_minor": 0,
  "metadata": {
    "colab": {
      "provenance": []
    },
    "kernelspec": {
      "name": "python3",
      "display_name": "Python 3"
    },
    "language_info": {
      "name": "python"
    }
  },
  "cells": [
    {
      "cell_type": "markdown",
      "source": [
        "# **파이썬은 무슨언어인가?**"
      ],
      "metadata": {
        "id": "PdOMv-7uAn0n"
      }
    },
    {
      "cell_type": "markdown",
      "source": [
        "파이썬은 정확하게는, 스크립트 언어이다. 모든 스크립트 언어는 프로그래밍 언어로 볼 수 있으나, 모든 프로그래밍 언어가 스크립트 언어로 분류되는 것은 아니다. 따라서 파이썬은 스크립트 언어이자, 프로그래밍 언어이다. 그러나 사람들은 일반적인 경우에 파이썬을 프로그래밍 언어의 목적으로 분류하고, 프로그래밍 목적으로 많이 사용한다."
      ],
      "metadata": {
        "id": "mcbi82e4Aq63"
      }
    },
    {
      "cell_type": "markdown",
      "source": [
        " **스크립팅(scripting/Scripting Language)**\n",
        "스크립트 언어란 컴파일이 필요없이 실행될 수 있는 명령어의 집합이다. 스크립트 언어는 인터프리터를 사용하는데, 인터프리터는 컴파일 과정이 필요하지 않으며, 소스코드로 부터 바로 명령어를 해석할 수 있다."
      ],
      "metadata": {
        "id": "Efi3dURsBMIn"
      }
    },
    {
      "cell_type": "markdown",
      "source": [
        "# **interpreted language**"
      ],
      "metadata": {
        "id": "Eixwn-gnAnyn"
      }
    },
    {
      "cell_type": "markdown",
      "source": [
        "인터프리터는 고급 언어로 작성된 원시코드 명령어들을 한번에 한 줄씩 읽어들여서 실행하는 프로그램이다. 인터프리터 언어는 실행시간(runtime) 전에 기계 레벨 코드(machine-level code)를 만드는 컴파일 언어와 다르게 소스코드를 바로 실행하는 언어이며, 파이썬은 인터프리터 언어에 해당한다"
      ],
      "metadata": {
        "id": "4hXt-vZsB8D_"
      }
    }
  ]
}