{
  "nbformat": 4,
  "nbformat_minor": 0,
  "metadata": {
    "colab": {
      "provenance": []
    },
    "kernelspec": {
      "name": "python3",
      "display_name": "Python 3"
    },
    "language_info": {
      "name": "python"
    }
  },
  "cells": [
    {
      "cell_type": "markdown",
      "source": [
        "# **CPU 스케줄러인 FCFS, SJF, SRTF, RR, Priority Scheduling**"
      ],
      "metadata": {
        "id": "buZR2i6kd5OG"
      }
    },
    {
      "cell_type": "markdown",
      "source": [
        "**스케줄링 정책**"
      ],
      "metadata": {
        "id": "VRdhhHaed5Mr"
      }
    },
    {
      "cell_type": "markdown",
      "source": [
        "스케줄링 정책(scheduling policy)에 따라 스케줄러를 선점 / 비선점_정적 / 동적 우선순위로 나눌 수 있다."
      ],
      "metadata": {
        "id": "WmSiFM3Jd5LS"
      }
    },
    {
      "cell_type": "markdown",
      "source": [
        "비선점 스케줄링(Non-preemptive scheduling): 할당 받을 자원을 스스로 반납할 때까지 사용한다. 이는 context switching 부하가 적다는 장점이 있지만, 우선 순위가 높은 프로세스가 들어올 경우 우선순위가 역전되어 우선순위가 낮은 프로세스의 처리 시간이 늘어나 평균 응답시간이 증가한다는 단점이 있다."
      ],
      "metadata": {
        "id": "qboAcwugd5KA"
      }
    },
    {
      "cell_type": "markdown",
      "source": [
        "선점 스케쥴링(Preemptive Scheduling): 타의에 의해 자원을 빼앗길 수 있다. 비선점 스케줄링과 다르게 context switching부하가 크지만, 응답성이 높으므로 real-time system, time-sharing system에 적합하다."
      ],
      "metadata": {
        "id": "On_t8GG2d5It"
      }
    },
    {
      "cell_type": "markdown",
      "source": [
        "정적 우선순위(Static Priority): 프로세스 생성 시 결정된 우선순위가 유지된다. 이는 구현을 쉽게하고, context switching이 덜일어나기 때문에 부하가 적다. 하지만 시스템 환경 변화에 대한 대응이 어렵다."
      ],
      "metadata": {
        "id": "2wcvjMGwd5Hb"
      }
    },
    {
      "cell_type": "markdown",
      "source": [
        "동적 우선순위(Dynamic Priority): 프로세스의 상태변화에 따라 우선순위를 변경한다. 구현이 복잡하지만 시스템 환경변화에 유연하게 대응이 가능하다."
      ],
      "metadata": {
        "id": "OFKfCd_8d5GO"
      }
    },
    {
      "cell_type": "markdown",
      "source": [
        "# **대표적인 스케쥴러**"
      ],
      "metadata": {
        "id": "3ibzQskpd5Eu"
      }
    },
    {
      "cell_type": "markdown",
      "source": [
        "FCFS(First Come First Service)는 비선점 스케쥴러로,  Ready Queue에 먼저 도착한 프로세스를 먼저 처리. 자원을 효율적으로 사용할 수 있어 일괄 처리 시스템에 적합하다. 하지만 수행시간이 긴 프로세스가 먼저 도착하면 다른 프로세스의 대기 시간이 길어지는 convoy effect로 인해 평균 응답시간이 길다는 단점이 있다."
      ],
      "metadata": {
        "id": "yWuRCjcxd5AP"
      }
    },
    {
      "cell_type": "markdown",
      "source": [
        "RR(Round Robin)은 선점 스케줄러로, Ready Queue에 먼저 도착한 프로세스를 처리한다는 점에서 FCFS와 같지만 자원 사용 시간(time quantum)이 있다는 점에서 차이가 있다. 프로세스가 할당된 시간이 지나면 자원을 반납하게 하여 특정 프로세스의 자원 독점을 방지한다."
      ],
      "metadata": {
        "id": "lKJdQe4dr99f"
      }
    },
    {
      "cell_type": "markdown",
      "source": [
        "SJF(Shortest Job First)는 비선점 스케줄러로, CPU burst time이 가장 작은 프로세스를 먼저 처리한다. 가장 실행시간이 적은 프로세스를 먼저 처리하기 때문에 대기시간을 줄일 수 있지만, 실행 시간을 에측한다는 점에서 비현실적이며 계속해서 짧은 프로세스만을 처리하므로 긴 프로세스는 뒤로 밀린다는 단점이 있다."
      ],
      "metadata": {
        "id": "y1CQcu81r90h"
      }
    },
    {
      "cell_type": "markdown",
      "source": [
        "SRTF(Shortest Remaining Time First)는 선점 스케쥴러로, 잔여실행 시간이 더 적은 프로세스를 먼저 처리한다. SJF의 장점을 극대화 했으나, 프로세스 생성시 총실행 시간 예측이 필요하고 / 잔여시간을 계속 추척해야 해서 overhead가 크고 구현 및 사용이 비현실 적이다."
      ],
      "metadata": {
        "id": "dEzwNsF-r9tN"
      }
    },
    {
      "cell_type": "markdown",
      "source": [
        "Priority Scheduling은 각 프로세스에 지정된 우선순위를 기준으로 높은 우선순위를 가진 프로세스를 먼저 처리한다. 이방식의 단점은 계속해서 우선순위가 높은 프로세스가 들어오면 그 프로세스를 먼저 처리하므로 낮은 프로세스는 뒤로 밀리는 starvation 문제가 발생한다. 이는 일정 시간 이상 기다리면 프로세스의 우선순위를 높여주는 aging방식으로 해결할 수 있다."
      ],
      "metadata": {
        "id": "wqZjvNR3t1hB"
      }
    }
  ]
}