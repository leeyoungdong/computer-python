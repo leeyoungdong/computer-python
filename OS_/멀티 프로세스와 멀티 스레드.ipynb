{
  "nbformat": 4,
  "nbformat_minor": 0,
  "metadata": {
    "colab": {
      "provenance": [],
      "collapsed_sections": []
    },
    "kernelspec": {
      "name": "python3",
      "display_name": "Python 3"
    },
    "language_info": {
      "name": "python"
    }
  },
  "cells": [
    {
      "cell_type": "markdown",
      "source": [
        "# **멀티 프로세스 vs 멀티 스레드**"
      ],
      "metadata": {
        "id": "4_ZrrPYx19-l"
      }
    },
    {
      "cell_type": "markdown",
      "source": [
        "**멀티 프로세스** 한개의 응용프로그램을 여러개의 프로세스로 구성하여 각 프로세스가 하나의 작업을 처리하도록 하는것"
      ],
      "metadata": {
        "id": "0p8hp_8r1989"
      }
    },
    {
      "cell_type": "markdown",
      "source": [
        "**장점**\n",
        "\n",
        "여러개의 종속된 프로세스 중 하나에 문제가 발생하면 하나의 프로세스만 죽이는것을 다른 영향이 확산되지 않음"
      ],
      "metadata": {
        "id": "LV9rD4a12a_q"
      }
    },
    {
      "cell_type": "markdown",
      "source": [
        "**단점**\n",
        "\n",
        "Context Switching 과정에서 캐시 메모리 초기화 등 무거운 작업이 진행되고, 많은 시간이 소모되는등 오버헤드가 발생함.\n",
        "\n",
        "프로세스는 각 독립된 메모리영역을 할당받았기에 하나의 프로그램에 속하는 프로세스들 사이의 변수를 공유할 수 없음"
      ],
      "metadata": {
        "id": "0bCxD39d196m"
      }
    },
    {
      "cell_type": "markdown",
      "source": [
        "**멀티스레드**  하나의 응용프로그램을 여러개의 스레드로 구성하고 각 스레드로 하나의 작업을 처리하도록 하는것. 윈도우, 리눅스 등 많은 운영체제들이 멀티 프로세싱을 지원하지만 멀티 스레드를 기본으로 하고있음. 웹서버는 대표적인 멀티스레드 응용프로그램"
      ],
      "metadata": {
        "id": "N3JLd01t194u"
      }
    },
    {
      "cell_type": "markdown",
      "source": [
        "**장점**\n",
        "\n",
        "프로세스를 생성하여 자원을 할당하는 시스템 콜이 줄어들어 자원을 효율적으로 관리할 수 있음\n",
        "\n",
        "스레드 간 데이터를 주고받는 것이 간단해지고 시스템 자원 소모가 줄어듦\n",
        "\n",
        "스레드 사이의 작업량이 작아 Context Switching이 빠름\n",
        "\n",
        "스레드는 프로세스 내의 Stack영역을 제외한 모든 메모리를 공유하기 때문에 통신의 부담이 적다."
      ],
      "metadata": {
        "id": "lQvKYtaH192Y"
      }
    },
    {
      "cell_type": "markdown",
      "source": [
        "**단점**\n",
        "\n",
        "주의깊은 설계가 필요, 디버깅이 까다로움\n",
        "\n",
        "단일 프로세스 시스템의 경우 효과를 기대하기 어려움\n",
        "\n",
        "프로세스 밖에서 스레드를 각각 제어할 수 없음\n",
        "\n",
        "멀티 스레드의 경우 자원의 공유의 문제가 발생(동기화 문제)\n",
        "\n",
        "하나의 스레드에 문제가 발생하면 전체 프로세스가 영향을 받음"
      ],
      "metadata": {
        "id": "bvLJXOzX19xs"
      }
    },
    {
      "cell_type": "markdown",
      "source": [],
      "metadata": {
        "id": "KtIGcimh19vt"
      }
    },
    {
      "cell_type": "markdown",
      "source": [
        "# **그럼에도 멀티 프로세스 대신 멀티 스레드를 사용하는 이유**"
      ],
      "metadata": {
        "id": "tSHhKwhT19tm"
      }
    },
    {
      "cell_type": "markdown",
      "source": [
        "**자원의 효율성 증대**\n",
        "\n",
        "프로세스 간의 Context Switching시 단순 CPU 레지스터 교체뿐 아니라 RAM, CPU 사이의 캐시 메모리에 대한 데이터까지 초기화되므로, 오버헤드가 발생함. 멀티 프로세스로 실행되는 작업을 멀티 스레드로 실행할 경우, 프로세스를 생성하여 자원을 할당하는 시스템콜이 줄어들어 자원을 효율적으로 관리할 수 있음\n",
        "\n",
        "스레드는 프로세스 내의 메모리를 공유하기 때문에 독립적인 프로세스와 달리 스레드간 데이터를 주고받는것이 간단해지고 시스템 자원 소모가 줄어듦"
      ],
      "metadata": {
        "id": "5uHzljYS19ro"
      }
    },
    {
      "cell_type": "markdown",
      "source": [
        "**처리 비용 감소 및 응답 시간 단축**\n",
        "\n",
        "스레드는 Stack 영역을 제외한 모든 메모리를 공유하기 때문에 프로세스 간의 통신(IPC)보다 스레드간 통신의 비용이 적으므로 작업들 간 통신의 부담이 줄어듦\n",
        "\n",
        "Context Switching시 스레드는 Stack영역만 처리하기 때문에 프로세스간의 전환속도보다 스레드 간의 전환속도가 빠르다."
      ],
      "metadata": {
        "id": "_VA1JnPp19pj"
      }
    },
    {
      "cell_type": "markdown",
      "source": [
        "**Context Switching**\n",
        "\n",
        "CPU에서 여러 프로세스를 돌아가면서 작업을 처리하는데 이 과정을 Context Switching이라고 함. 동작중인 프로세스가 대기하면서 해당 프로세스의 상태(Context)를 보관하고, 대기하고 있던 다음 순서의 프로세스가 동작하며 이전에 보관했던 프로세스의 상태를 복구하는 작업을 이야기함."
      ],
      "metadata": {
        "id": "EXjypBhd19m8"
      }
    },
    {
      "cell_type": "markdown",
      "source": [
        "**동기화 문제(Synchronization)**\n",
        "\n",
        "멀티 스레드를 사용하면 각각의 스레드 중 어떤것이 어떤 순서로 실행될지 그 순서를 알 수 없음. 만약 A스레드가 어떤 자원을 사용하다가 B스레드로 제어권이 넘어간 후 B스레드가 해당 자원을 수정 했을 때, 다시 제어권을 받은 A스레드가 해당 자원에 접근하지 못하거나 바뀐 자원에 접근하게 되는 오류가 발생 할 수 있다.\n",
        "\n",
        "여러 스레드가 함께 전역변수를 사용할 경우 발생하는 충돌을 동기화 문제라고 함."
      ],
      "metadata": {
        "id": "xTHYZ-2h6R3G"
      }
    }
  ]
}