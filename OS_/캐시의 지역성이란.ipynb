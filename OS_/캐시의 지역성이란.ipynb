{
  "nbformat": 4,
  "nbformat_minor": 0,
  "metadata": {
    "colab": {
      "provenance": [],
      "collapsed_sections": []
    },
    "kernelspec": {
      "name": "python3",
      "display_name": "Python 3"
    },
    "language_info": {
      "name": "python"
    }
  },
  "cells": [
    {
      "cell_type": "markdown",
      "source": [
        "# **캐시의 지역성이란?**"
      ],
      "metadata": {
        "id": "4_ZrrPYx19-l"
      }
    },
    {
      "cell_type": "markdown",
      "source": [
        "**캐시 메모리** 는 CPU의 처리속도와 메모리의 속도 차이로 인한 병목현상을 완하 하기위해 사용하는 고속 버퍼 메모리이다.주기억장치에 있는 데이터를 액세스하려면 비교적 오랜 시간이 걸리게 되는데 이를 줄이기 위해 데이터를 빠르게 액세스 할 수 있도록 중간에 캐시 메모리를 두는 것이다.\n",
        "\n",
        "주기억 장치 내에서 자주 읽고 쓰는 데이터 일부를 캐시 메모리에 불러와 속도차이를 줄이고, 주기억장치와 CPU간 신호 교환에 이용되는 Meomory Bandwidth를 I/O사용에 집중할 수 있게 만든다.\n",
        "\n"
      ],
      "metadata": {
        "id": "7CdMWYQdeH3Q"
      }
    },
    {
      "cell_type": "markdown",
      "source": [
        "적중률(Hit Rate)를 극대화 하기우해 데이터 지역성(Locality) 원리를 사용한다. 지역성의 전제조건으로는 프로그램은 모든 코드나 데이터를 균등하게 액세스하지 않는다는 특성을 기본으로 한다. 즉, 지역성이란 기억장치 내의 정보를 균일하게 액세스 하는것이 아닌 어느 한순간 특정 부분을 집중적으로 참조하는 특성이다."
      ],
      "metadata": {
        "id": "IXHp16xieH0w"
      }
    },
    {
      "cell_type": "markdown",
      "source": [
        "**데이터 지역성**은 대표적으로 시간적, 공간적, 순차적 지역성으로 나뉜다."
      ],
      "metadata": {
        "id": "zH89in73eHyr"
      }
    },
    {
      "cell_type": "markdown",
      "source": [
        "**시간적 지역성(Temporal locality)**는 CPU가 한번 참조한 데이터는 다시 참조할 가능성이 높다."
      ],
      "metadata": {
        "id": "ldMkqxqseHxI"
      }
    },
    {
      "cell_type": "markdown",
      "source": [
        "**공간적 지역성(Spatail locality)**는 CPU가 참조한 데이터와 인접한 데이터 역시 참조될 가능성이 높다."
      ],
      "metadata": {
        "id": "KxJOVHnTeHvM"
      }
    },
    {
      "cell_type": "markdown",
      "source": [
        "**순차적 지역성(Sequentail locality)**는 분기가 발생하지 않는 한명령어는 메모리에 저장된 순서대로 인출/실행 된다."
      ],
      "metadata": {
        "id": "gMAbpolwg9js"
      }
    },
    {
      "cell_type": "markdown",
      "source": [
        "지역성은 어디까지나 경향에 대한 것이므로 항상 캐시의 높은 적중률을 보장해 주지 않음"
      ],
      "metadata": {
        "id": "0_oafjKvhGsO"
      }
    },
    {
      "cell_type": "markdown",
      "source": [
        "**적중률 (Hit rate)**\n",
        "\n",
        "캐시 메모리가 있는 컴퓨터 시스템은 CPU가 메모리에 접근하기 전 먼저 캐시메모리에서 원하는 데이터의 존재 여부를 확인함. 이때 필요한 데이터가 있는 경우를 적중(Hit), 없는 경우를 실패(Miss)라고함.\n",
        "\n",
        "요청한 데이터를 캐시 메모리에서 찾을 확률 = 적중률(Hit rate)\n",
        "\n",
        "캐시 메모리의 성능은 적중률에 의해 결정됨\n",
        "\n",
        "적중률 = (캐시 메모리의 적중 횟수) / (전체 메모리의 참조 횟수)"
      ],
      "metadata": {
        "id": "dsbwozYRhLkO"
      }
    }
  ]
}