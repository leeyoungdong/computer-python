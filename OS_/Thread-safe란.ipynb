{
  "nbformat": 4,
  "nbformat_minor": 0,
  "metadata": {
    "colab": {
      "provenance": []
    },
    "kernelspec": {
      "name": "python3",
      "display_name": "Python 3"
    },
    "language_info": {
      "name": "python"
    }
  },
  "cells": [
    {
      "cell_type": "markdown",
      "source": [
        "# **Thread-safe**"
      ],
      "metadata": {
        "id": "TZwWDmj8_uJw"
      }
    },
    {
      "cell_type": "markdown",
      "source": [
        "멀티 스레드 프로그래밍에서 일반적으로 어떤 함수나 변수, 객체를 여러 스레드가 동시에 접근해도 프로그램 실행에 문제가 없음을 뜻한다.\n",
        "\n",
        " 즉, 멀티 스레드 환경에서 여러 스레드가 동시에 동일한 코드를 실행시켰을 때 올바른 결과를 얻는 것을 말한다."
      ],
      "metadata": {
        "id": "LXkd8d7L_wXe"
      }
    },
    {
      "cell_type": "code",
      "source": [
        "import threading\n",
        "from threading import Thread\n",
        "\n",
        "def increase_count():\n",
        "    global count\n",
        "    for _ in range(1000000):\n",
        "        count += 1\n",
        "\n",
        "\n",
        "if __name__==\"__main__\":\n",
        "    count = 0\n",
        "\n",
        "    # 스레드 생성\n",
        "    thread_a = Thread(target=increase_count, name=\"thread a\")\n",
        "    thread_b = Thread(target=increase_count, name=\"thread b\")\n",
        "\n",
        "    # 스레드 실행\n",
        "    thread_a.start()\n",
        "    thread_b.start()\n",
        "\n",
        "    # 스레드 종료\n",
        "    thread_a.join()\n",
        "    thread_b.join()\n",
        "\n",
        "    print(\"최종 count:\", count)"
      ],
      "metadata": {
        "colab": {
          "base_uri": "https://localhost:8080/"
        },
        "id": "PeWQMEpo_sAo",
        "outputId": "691bac17-01a2-4225-9adb-1a905059e4a9"
      },
      "execution_count": 61,
      "outputs": [
        {
          "output_type": "stream",
          "name": "stdout",
          "text": [
            "최종 count: 1446560\n"
          ]
        }
      ]
    },
    {
      "cell_type": "markdown",
      "source": [
        "다음은 스레드 안전하지 않은 경우의 코드이다.\n",
        "\n",
        " 사용자가 원하는 결과는 스레드가 함수를 실행한 수에 1000000을 곱한 값이 count의 값이 되는 것이다.\n",
        " \n",
        "  하지만 다음 코드를 실행하면, count는 2000000가 아닌 1446560이이 나온다. (실행할 때마다 값이 달라진다)\n",
        "\n",
        " 두 스레드가 count 변수를 공유하고 있기 때문이다. 이 때 공유 자원에 접근하는 코드 영역을 임계 영역(critical section)이라고 하며, 둘 이상의 프로세스가 동시에 임계 영역에 접근하는 것을 막는 것을 상호 배제(mutual exclusion)라고 한다.\n",
        " \n",
        "파이썬에서는 threading 모듈에 있는 Lock 객체로 상호 배제를 시킬 수 있다. 다음 코드를 실행하면 최종 count는 우리가 원했던 2000000이 나온다."
      ],
      "metadata": {
        "id": "Tzhsjs_p_4NO"
      }
    },
    {
      "cell_type": "code",
      "source": [
        "import threading\n",
        "from threading import Thread\n",
        "\n",
        "def increase_count():\n",
        "    lock.acquire()\n",
        "    global count\n",
        "    for _ in range(1000000):\n",
        "        count += 1\n",
        "    lock.release()\n",
        "\n",
        "\n",
        "if __name__==\"__main__\":\n",
        "    count = 0\n",
        "\n",
        "    # 스레드 락 생성\n",
        "    lock = threading.Lock()\n",
        "\n",
        "    # 스레드 생성\n",
        "    thread_a = Thread(target=increase_count, name=\"thread a\")\n",
        "    thread_b = Thread(target=increase_count, name=\"thread b\")\n",
        "\n",
        "    # 스레드 실행\n",
        "    thread_a.start()\n",
        "    thread_b.start()\n",
        "\n",
        "    # 스레드 종료\n",
        "    thread_a.join()\n",
        "    thread_b.join()\n",
        "\n",
        "    print(\"최종 count:\", count)"
      ],
      "metadata": {
        "colab": {
          "base_uri": "https://localhost:8080/"
        },
        "id": "ebfj34E__r-4",
        "outputId": "681423fb-9368-482d-d7b4-870be7a8d495"
      },
      "execution_count": 60,
      "outputs": [
        {
          "output_type": "stream",
          "name": "stdout",
          "text": [
            "최종 count: 2000000\n"
          ]
        }
      ]
    }
  ]
}