{
  "nbformat": 4,
  "nbformat_minor": 0,
  "metadata": {
    "colab": {
      "provenance": []
    },
    "kernelspec": {
      "name": "python3",
      "display_name": "Python 3"
    },
    "language_info": {
      "name": "python"
    }
  },
  "cells": [
    {
      "cell_type": "markdown",
      "source": [
        "# **교착상태(데드락, Deadlock)의 개념과 조건**"
      ],
      "metadata": {
        "id": "_hcoetZ9_dzP"
      }
    },
    {
      "cell_type": "markdown",
      "source": [
        "교착상태란, 두 개 이상의 작업이 서로 상대방의 작업이 끝나기 만을 기다리고 있기 때문에 결과적으로 아무것도 완료되지 못하는 상태를 가리킨다. 교착상태의 조건은 아래와 같다."
      ],
      "metadata": {
        "id": "K1gdN1ng_dxO"
      }
    },
    {
      "cell_type": "markdown",
      "source": [
        "**상호배제(Mutual exclusion)** : 프로세스들이 필요로 하는 자원에 대해 배타적인 통제권을 요구한다."
      ],
      "metadata": {
        "id": "bXgf7v6Q_dut"
      }
    },
    {
      "cell_type": "markdown",
      "source": [
        "**점유대기(Hold and wait)** : 프로세스가 할당된 자원을 가진 상태에서 다른 자원을 기다린다."
      ],
      "metadata": {
        "id": "3lworzK__dse"
      }
    },
    {
      "cell_type": "markdown",
      "source": [
        "**비선점(No preemption)** : 프로세스가 어떤 자원의 사용을 끝낼 때까지 그 자원을 뺏을 수 없다."
      ],
      "metadata": {
        "id": "I9yrqdZg_dqF"
      }
    },
    {
      "cell_type": "markdown",
      "source": [
        "**순환대기(Circular wait)** : 각 프로세스는 순환적으로 다음 프로세스가 요구하는 자원을 가지고 있다."
      ],
      "metadata": {
        "id": "Xo7kQhf6_dnl"
      }
    },
    {
      "cell_type": "markdown",
      "source": [
        "현재 대부분의 운영체제들은 교착상태를 막는 것이 불가능하여, 운영체제마다 각기 다른 방법으로 교착상태에 대응한다. 주요 접근 방식은 예방, 회피, 무시, 발견, 회복 등이 있다. 이 중에서 예방은 위의 교착상태의 조건 중 하나를 제거하는 방식으로 진행되며, 회피는 부가적인 교착상태 회피 알고리즘을 사용한다. 또한 회복을 위해서는 \"교착상태에 있는 프로세스들을 하나씩 종료해가는 방법\"과 \"사용되는 자원이 적은 프로세스 등을 위주로 자원을 선점할 수 있도록 하는 방법\"이 쓰인다."
      ],
      "metadata": {
        "id": "LtGBEfpb_dld"
      }
    }
  ]
}